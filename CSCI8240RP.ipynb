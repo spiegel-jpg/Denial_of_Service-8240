{
  "cells": [
    {
      "cell_type": "markdown",
      "metadata": {
        "id": "view-in-github",
        "colab_type": "text"
      },
      "source": [
        "<a href=\"https://colab.research.google.com/github/spiegel-jpg/Denial_of_Service-8240/blob/main/CSCI8240RP.ipynb\" target=\"_parent\"><img src=\"https://colab.research.google.com/assets/colab-badge.svg\" alt=\"Open In Colab\"/></a>"
      ]
    },
    {
      "cell_type": "code",
      "execution_count": null,
      "metadata": {
        "id": "wwsyJx7LDbQr"
      },
      "outputs": [],
      "source": [
        "import matplotlib.pyplot as plt\n",
        "import numpy as np\n",
        "from numpy.random import choice\n",
        "from scipy.stats import norm\n",
        "import statistics\n",
        "from google.colab import drive\n",
        "import pandas as pd\n",
        "import plotly.express as px\n",
        "import math\n",
        "import pywt"
      ]
    },
    {
      "cell_type": "code",
      "execution_count": null,
      "metadata": {
        "id": "eJRf-r8wD0JM"
      },
      "outputs": [],
      "source": [
        "drive.mount('/content/drive') # Mounting the drive"
      ]
    },
    {
      "cell_type": "code",
      "execution_count": null,
      "metadata": {
        "id": "ncXtXfleEhs2"
      },
      "outputs": [],
      "source": [
        "proj_dir = '/content/drive/MyDrive/spiegel'"
      ]
    },
    {
      "cell_type": "code",
      "execution_count": null,
      "metadata": {
        "id": "CYFNcyqzFP9E"
      },
      "outputs": [],
      "source": [
        "data = pd.read_excel(proj_dir+'/get.xlsx') # Reading the data"
      ]
    },
    {
      "cell_type": "code",
      "execution_count": null,
      "metadata": {
        "id": "kIHb6TCKFkxo"
      },
      "outputs": [],
      "source": [
        "data['Time'] = data['Time'].dt.floor('h')\n",
        "timeseries = data.set_index('Time')"
      ]
    },
    {
      "cell_type": "code",
      "execution_count": null,
      "metadata": {
        "id": "FADNqIzuF6Hk"
      },
      "outputs": [],
      "source": [
        "H = 10634                          # Total hours of data we have\n",
        "pages = pd.read_csv(proj_dir+'/pages.csv')\n",
        "valid_page = pages['PATH']"
      ]
    },
    {
      "cell_type": "code",
      "execution_count": null,
      "metadata": {
        "id": "5RNXQJX4Qvgt"
      },
      "outputs": [],
      "source": [
        "pages = pd.read_csv(proj_dir+'/pages.csv')\n",
        "valid_page = pages['PATH']\n",
        "\n",
        "# Creating quantiles with 114 pages each.\n",
        "\n",
        "quantile1 = list(valid_page[0:114])\n",
        "quantile2 = list(valid_page[114:228])\n",
        "quantile3 = list(valid_page[228:342])\n",
        "quantile4 = list(valid_page[342:456])\n",
        "quantile5 = list(valid_page[456:570])"
      ]
    },
    {
      "cell_type": "code",
      "execution_count": null,
      "metadata": {
        "id": "XuY1BzQCImWB"
      },
      "outputs": [],
      "source": [
        "valid_page_checker = set(valid_page)\n",
        "N = len(pages)                      # N is the total pages on the website\n",
        "                                    # These are all the pages which are services with 200 HTML status code\n",
        "M = int(5)\n",
        "no_of_quantiles = int(N/M)\n",
        "\n",
        "#  fij represent the total number of requests on ith page (1 ≤ i ≤ N) in the jth hour.\n"
      ]
    },
    {
      "cell_type": "code",
      "execution_count": null,
      "metadata": {
        "id": "mgpM-8FgI6iL"
      },
      "outputs": [],
      "source": [
        "# U is the quantiles \n",
        "# timeseries.index[i]\n",
        "time=set()\n",
        "for i in range(len(timeseries)):\n",
        "  time.add(timeseries.index[i])\n",
        "time = list(sorted(time))\n",
        "# print(time)\n",
        "# U = [[0 for i in range(M)] for j in range(int(no_of_quantiles))]\n",
        "# for i in range(int(no_of_quantiles)):\n",
        "#   for j in range(M):\n",
        "#     U[i][j]\n"
      ]
    },
    {
      "cell_type": "code",
      "source": [
        "S = [[0 for i in range(int(H))] for j in range(int(M))] "
      ],
      "metadata": {
        "id": "n_Dmgapcdj4U"
      },
      "execution_count": null,
      "outputs": []
    },
    {
      "cell_type": "code",
      "source": [
        "for i in range(H):\n",
        "  requests = timeseries.loc[time[i]]\n",
        "  no_of_req = int(len(requests))\n",
        "  request_path = requests['Path']\n",
        "  request_response = requests['Response']\n",
        "  if not isinstance(requests, pd.DataFrame):\n",
        "    if request_response == 200:\n",
        "        if request_path in quantile1:\n",
        "          S[0][i]+=1\n",
        "        elif request_path in quantile2:\n",
        "          S[1][i]+=1\n",
        "        elif request_path in quantile3:\n",
        "          S[2][i]+=1\n",
        "        elif request_path in quantile4:\n",
        "          S[3][i]+=1\n",
        "        elif request_path in quantile5:\n",
        "          S[4][i]+=1\n",
        "  else:\n",
        "    for j in range(no_of_req):\n",
        "      if request_response[j] == 200:\n",
        "        if request_path[j] in quantile1:\n",
        "          S[0][i]+=1\n",
        "        elif request_path[j] in quantile2:\n",
        "          S[1][i]+=1\n",
        "        elif request_path[j] in quantile3:\n",
        "          S[2][i]+=1\n",
        "        elif request_path[j] in quantile4:\n",
        "          S[3][i]+=1\n",
        "        elif request_path[j] in quantile5:\n",
        "          S[4][i]+=1"
      ],
      "metadata": {
        "id": "Z2W-GBTkZWzF"
      },
      "execution_count": null,
      "outputs": []
    },
    {
      "cell_type": "code",
      "source": [
        "x = np.arange(0, H, 1)\n",
        "plt.plot(x,S[0])\n",
        "plt.title(\"S1\")\n",
        "plt.xlabel(\"Time(n)\")\n",
        "plt.ylabel(\"No of requests\")"
      ],
      "metadata": {
        "id": "7ZumitSKec9-"
      },
      "execution_count": null,
      "outputs": []
    },
    {
      "cell_type": "code",
      "source": [
        "x = np.arange(0, H, 1)\n",
        "plt.plot(x,S[1])\n",
        "plt.title(\"S2\")\n",
        "plt.xlabel(\"Time(n)\")\n",
        "plt.ylabel(\"No of requests\")"
      ],
      "metadata": {
        "id": "j9So9km6rcQ8"
      },
      "execution_count": null,
      "outputs": []
    },
    {
      "cell_type": "code",
      "source": [
        "x = np.arange(0, H, 1)\n",
        "plt.plot(x,S[2])\n",
        "plt.title(\"S3\")\n",
        "plt.xlabel(\"Time(n)\")\n",
        "plt.ylabel(\"No of requests\")"
      ],
      "metadata": {
        "id": "8rH7LEwGrcUN"
      },
      "execution_count": null,
      "outputs": []
    },
    {
      "cell_type": "code",
      "source": [
        "x = np.arange(0, H, 1)\n",
        "plt.plot(x,S[3])\n",
        "plt.title(\"S4\")\n",
        "plt.xlabel(\"Time(n)\")\n",
        "plt.ylabel(\"No of requests\")"
      ],
      "metadata": {
        "id": "A5H5UsiCrcXp"
      },
      "execution_count": null,
      "outputs": []
    },
    {
      "cell_type": "code",
      "source": [
        "x = np.arange(0, H, 1)\n",
        "plt.plot(x,S[4])\n",
        "plt.title(\"S5\")\n",
        "plt.xlabel(\"Time(n)\")\n",
        "plt.ylabel(\"No of requests\")"
      ],
      "metadata": {
        "id": "OhJXuLUxrccV"
      },
      "execution_count": null,
      "outputs": []
    },
    {
      "cell_type": "markdown",
      "source": [
        "For Noise\n"
      ],
      "metadata": {
        "id": "5K7DDj2gJtbO"
      }
    },
    {
      "cell_type": "markdown",
      "source": [
        "Rtotal is the total number of requests for H/2 h. Hence, Rtotal is 129616 requests."
      ],
      "metadata": {
        "id": "ibQm1zzGVLId"
      }
    },
    {
      "cell_type": "code",
      "source": [
        "R_total_no = int(H/2)\n",
        "noise1 = S[0][0:R_total_no]\n",
        "noise2 = S[1][0:R_total_no]\n",
        "noise3 = S[2][0:R_total_no]\n",
        "noise4 = S[3][0:R_total_no]\n",
        "noise5 = S[4][0:R_total_no]\n",
        "noise = (noise1+noise2+noise3+noise4+noise5)"
      ],
      "metadata": {
        "id": "b2xGNxeSVdVx"
      },
      "execution_count": null,
      "outputs": []
    },
    {
      "cell_type": "code",
      "source": [
        "# Getting the Mean \n",
        "noise1_mean = np.mean(noise1)\n",
        "noise2_mean = np.mean(noise2)\n",
        "noise3_mean = np.mean(noise3)\n",
        "noise4_mean = np.mean(noise4)\n",
        "noise5_mean = np.mean(noise5)\n",
        "# Getting the Variance\n",
        "noise1_var = np.var(noise1)\n",
        "noise2_var = np.var(noise2)\n",
        "noise3_var = np.var(noise3)\n",
        "noise4_var = np.var(noise4)\n",
        "noise5_var = np.var(noise5)\n",
        "# Getting mean and variance for all quantiles\n",
        "noise_mean = np.mean(noise)\n",
        "noise_var = np.var(noise)\n",
        "print(noise2_var)\n",
        "print(noise_mean, noise_var)"
      ],
      "metadata": {
        "id": "56SgmNttafr_"
      },
      "execution_count": null,
      "outputs": []
    },
    {
      "cell_type": "code",
      "source": [
        "# Normal distribution for one of the quantiles according to the formula in the paper.\n",
        "x = np.arange(-R_total_no, R_total_no, 1)\n",
        "p=0.2 # 0.03 0.05 0.1 0.15 0.2\n",
        "plt.plot(x,norm.pdf(x,p*noise_mean,p*noise_var))\n",
        "# we havent used normal distribution in our paper as the paper says to add random noise but the normal distribution is will add a bell shaped curve\n",
        "# instead we took the approach of adding noise at random intervals with requests being added at a probability corresponding to the mean of the request for that quantile "
      ],
      "metadata": {
        "id": "VENl82QJdvy9"
      },
      "execution_count": null,
      "outputs": []
    },
    {
      "cell_type": "code",
      "source": [
        "x = np.arange(0, H, 1)\n",
        "plt.plot(x,S[0])"
      ],
      "metadata": {
        "id": "UU5niUdoivv0"
      },
      "execution_count": null,
      "outputs": []
    },
    {
      "cell_type": "code",
      "source": [
        "# A_noise1 = np.random.normal(0.03*noise_mean, 0.03*noise_var,4254)/M\n",
        "# A_noise2 = np.random.normal(0.05*noise_mean, 0.05*noise_var,4254)/M\n",
        "# A_noise3 = np.random.normal(0.1*noise_mean, 0.1*noise_var,4254)/M\n",
        "# A_noise4 = np.random.normal(0.15*noise_mean, 0.15*noise_var,4254)/M\n",
        "# A_noise5 = np.random.normal(0.2*noise_mean, 0.2*noise_var,4254)/M"
      ],
      "metadata": {
        "id": "1TsK0W7a7qwr"
      },
      "execution_count": null,
      "outputs": []
    },
    {
      "cell_type": "code",
      "source": [
        "# S0_40noise = S[0][5316:9570]+A_noise3\n",
        "# S0_paper_noise=[]\n",
        "# for i in range(H):\n",
        "#   if i<5317 or i>9569:\n",
        "#     S0_paper_noise.append(S[0][i])\n",
        "#   elif i>5316 and i<9570:\n",
        "#     S0_paper_noise.append(S0_40noise[i-5317])\n",
        "# df = pd.DataFrame(dict(\n",
        "#     x = np.arange(0,H,1),\n",
        "#     y = np.array(S0_paper_noise)\n",
        "# ))\n",
        "# fig = px.line(df, x=\"x\", y=\"y\", title=\"Quantile 1 With added noise according to papers FRC attack\") \n",
        "# fig.show(0)\n",
        "# x = np.arange(0,H,1)\n",
        "# y = np.array(S0_paper_noise)-np.array(S[0])\n",
        "# plt.title('Quantile 1 noise 10% attack')\n",
        "# plt.plot(x,y)"
      ],
      "metadata": {
        "id": "Mma1QldZ8swb"
      },
      "execution_count": null,
      "outputs": []
    },
    {
      "cell_type": "markdown",
      "source": [
        "### **Here starts the real thing (Graph)**\n",
        "\n",
        "\n"
      ],
      "metadata": {
        "id": "yCXZgc6S1mYN"
      }
    },
    {
      "cell_type": "code",
      "source": [
        "# Quantile 1 with added noise\n",
        "from scipy.stats import gamma\n",
        "P=0.005\n",
        "# noise1_prob = poisson.rvs(mu=noise1_mean,size=math.floor(noise1_mean+P*noise1_var)) \n",
        "noise1_prob = gamma.rvs(a=(noise1_mean), size=math.floor(noise1_mean+P*noise1_var))\n",
        "noise1_prob = noise1_prob/sum(noise1_prob)\n",
        "quantile1_req_noise=[]\n",
        "# quantile1_prob_noise=[]\n",
        "\n",
        "for i in range(math.floor(noise1_mean+P*noise1_var)):\n",
        "  if i%2==0:\n",
        "    quantile1_req_noise.append(0)\n",
        "  else:\n",
        "    quantile1_req_noise.append(i)\n",
        "  # quantile1_prob_noise.append(0.1/(noise1_mean+P*noise1_var))\n",
        "# quantile1_prob_noise.pop()\n",
        "# for_zero = 1 - sum(quantile1_prob_noise)\n",
        "# quantile1_prob_noise.insert(0,for_zero)\n",
        "noise1_data = choice(quantile1_req_noise, 4254, p=noise1_prob) # noise\n",
        "S0_mod = noise1_data + S[0][5317:9571]\n",
        "S0=[]  # sequence 0 with added noise\n",
        "for i in range(H):\n",
        "  if i<5317:\n",
        "    S0.append(S[0][i])\n",
        "  elif i>5316 and i<9570:\n",
        "    S0.append(S0_mod[i-5317])\n",
        "  elif i>9569:\n",
        "    S0.append(S[0][i])\n",
        "df = pd.DataFrame(dict(\n",
        "    x = np.arange(0,H,1),\n",
        "    y = S0\n",
        "))\n",
        "df1 = pd.DataFrame(dict(\n",
        "    x = np.arange(0,H,1),\n",
        "    y = np.array(S0) - np.array(S[0])\n",
        "))\n",
        "\n",
        "# new_df = df - df_no_noise\n",
        "fig = px.line(df, x=\"x\", y=\"y\", title=\"Quantile 1 With added noise\") \n",
        "fig.add_vrect(x0=5316, x1=9570)\n",
        "fig.show(0)\n",
        "fig1 = px.line(df1, x=\"x\", y=\"y\", title=\"Quantile 1 noise\") \n",
        "fig1.add_vrect(x0=5316, x1=9570)\n",
        "fig1.show(0)\n",
        "# plt.plot(np.arange(0,H,1), S0)\n"
      ],
      "metadata": {
        "id": "TkWSvG6hobMC"
      },
      "execution_count": null,
      "outputs": []
    },
    {
      "cell_type": "code",
      "source": [
        "# Quantile 1 without noise\n",
        "df = pd.DataFrame(dict(\n",
        "    x = np.arange(0,H,1),\n",
        "    y = S[0]\n",
        "))\n",
        "fig = px.line(df, x=\"x\", y=\"y\", title=\"Quantile 1 Without noise\") \n",
        "fig.add_vrect(x0=5316, x1=9570)\n",
        "fig.show(0)"
      ],
      "metadata": {
        "id": "UVPBAyobwnbH"
      },
      "execution_count": null,
      "outputs": []
    },
    {
      "cell_type": "code",
      "source": [
        "# Quantile 2 with added noise\n",
        "quantile2_req_noise = []\n",
        "quantile2_prob_noise = []\n",
        "P=0.05\n",
        "noise2_mean\n",
        "for i in range(math.floor(noise2_var)):\n",
        "  quantile2_req_noise.append(i)\n",
        "  quantile2_prob_noise.append(P/(noise2_var))\n",
        "quantile2_prob_noise.pop()\n",
        "for_zero = 1 - sum(quantile2_prob_noise)\n",
        "quantile2_prob_noise.insert(0,for_zero)\n",
        "\n",
        "noise2_data = choice(quantile2_req_noise, 4254, p=quantile2_prob_noise) # noise\n",
        "S1_mod = noise2_data + S[1][5317:9571]\n",
        "S1=[]\n",
        "for i in range(H):\n",
        "  if i<5317:\n",
        "    S1.append(S[1][i])\n",
        "  elif i>5316 and i<9570:\n",
        "    S1.append(S1_mod[i-5317])\n",
        "  elif i>9569:\n",
        "    S1.append(S[1][i])\n",
        "df = pd.DataFrame(dict(\n",
        "    x = np.arange(0,H,1),\n",
        "    y = S1\n",
        "))\n",
        "df1 = pd.DataFrame(dict(\n",
        "    x = np.arange(0,H,1),\n",
        "    y = np.array(S1) - np.array(S[1])\n",
        "))\n",
        "fig = px.line(df, x=\"x\", y=\"y\", title=\"Quantile 2 With added noise\") \n",
        "fig.add_vrect(x0=5316, x1=9570)\n",
        "fig.show(0)\n",
        "fig1 = px.line(df1, x=\"x\", y=\"y\", title=\"Quantile 2 noise\") \n",
        "fig1.add_vrect(x0=5316, x1=9570)\n",
        "fig1.show(0)"
      ],
      "metadata": {
        "id": "mID0jWKX0yBt"
      },
      "execution_count": null,
      "outputs": []
    },
    {
      "cell_type": "code",
      "source": [
        "# Quantile 2 without noise\n",
        "df = pd.DataFrame(dict(\n",
        "    x = np.arange(0,H,1),\n",
        "    y = S[1]\n",
        "))\n",
        "fig = px.line(df, x=\"x\", y=\"y\", title=\"Quantile 2 Without noise\") \n",
        "fig.add_vrect(x0=5316, x1=9570)\n",
        "fig.show(0)"
      ],
      "metadata": {
        "id": "omZFqt5M1_MC"
      },
      "execution_count": null,
      "outputs": []
    },
    {
      "cell_type": "code",
      "source": [
        "# Quantile 3 with added noise\n",
        "quantile3_req_noise = [0,1]\n",
        "noise3_data = choice(quantile3_req_noise, 4254, p=[1-noise3_mean,noise3_mean]) # noise\n",
        "S2_mod = noise3_data + S[2][5317:9571]\n",
        "S2=[]\n",
        "for i in range(H):\n",
        "  if i<5317:\n",
        "    S2.append(S[2][i])\n",
        "  elif i>5316 and i<9570:\n",
        "    S2.append(S2_mod[i-5317])\n",
        "  elif i>9569:\n",
        "    S2.append(S[2][i])\n",
        "df = pd.DataFrame(dict(\n",
        "    x = np.arange(0,H,1),\n",
        "    y = S2\n",
        "))\n",
        "fig = px.line(df, x=\"x\", y=\"y\", title=\"Quantile 3 With added noise\") \n",
        "fig.add_vrect(x0=5316, x1=9570)\n",
        "fig.show(0)"
      ],
      "metadata": {
        "id": "-V8Nz2Rf2L-g"
      },
      "execution_count": null,
      "outputs": []
    },
    {
      "cell_type": "code",
      "source": [
        "# Quantile 3 without noise\n",
        "df = pd.DataFrame(dict(\n",
        "    x = np.arange(0,H,1),\n",
        "    y = S[2]\n",
        "))\n",
        "fig = px.line(df, x=\"x\", y=\"y\", title=\"Quantile 3 Without noise\") \n",
        "fig.add_vrect(x0=5316, x1=9570)\n",
        "fig.show(0)"
      ],
      "metadata": {
        "id": "bSH8Lrjv2ipS"
      },
      "execution_count": null,
      "outputs": []
    },
    {
      "cell_type": "code",
      "source": [
        "# Quantile 4 with added noise\n",
        "quantile4_req_noise = [0,1]\n",
        "noise4_data = choice(quantile4_req_noise, 4254, p=[1-noise4_mean,noise4_mean]) # noise\n",
        "S3_mod = noise4_data + S[3][5317:9571]\n",
        "S3=[]\n",
        "for i in range(H):\n",
        "  if i<5317:\n",
        "    S3.append(S[3][i])\n",
        "  elif i>5316 and i<9570:\n",
        "    S3.append(S3_mod[i-5317])\n",
        "  elif i>9569:\n",
        "    S3.append(S[3][i])\n",
        "df = pd.DataFrame(dict(\n",
        "    x = np.arange(0,H,1),\n",
        "    y = S3\n",
        "))\n",
        "fig = px.line(df, x=\"x\", y=\"y\", title=\"Quantile 4 With added noise\") \n",
        "fig.add_vrect(x0=5316, x1=9570)\n",
        "fig.show(0)"
      ],
      "metadata": {
        "id": "fdTfkYUW2t18"
      },
      "execution_count": null,
      "outputs": []
    },
    {
      "cell_type": "code",
      "source": [
        "# Quantile 4 without noise\n",
        "df = pd.DataFrame(dict(\n",
        "    x = np.arange(0,H,1),\n",
        "    y = S[3]\n",
        "))\n",
        "fig = px.line(df, x=\"x\", y=\"y\", title=\"Quantile 4 without noise\") \n",
        "fig.add_vrect(x0=5316, x1=9570)\n",
        "fig.show(0)"
      ],
      "metadata": {
        "id": "j0ufrA472yEg"
      },
      "execution_count": null,
      "outputs": []
    },
    {
      "cell_type": "code",
      "source": [
        "quantile5_req_noise = [0,1]\n",
        "noise5_data = choice(quantile5_req_noise, 4254, p=[1-noise5_mean,noise5_mean]) # noise\n",
        "# plt.plot(np.arange(5317,9571,1),S[0][5317:9571]+data)\n",
        "S4_mod = noise5_data + S[4][5317:9571]\n",
        "S4=[]\n",
        "for i in range(H):\n",
        "  if i<5317:\n",
        "    S4.append(S[4][i])\n",
        "  elif i>5316 and i<9570:\n",
        "    S4.append(S4_mod[i-5317])\n",
        "  elif i>9569:\n",
        "    S4.append(S[4][i])\n",
        "df = pd.DataFrame(dict(\n",
        "    x = np.arange(0,H,1),\n",
        "    y = S4\n",
        "))\n",
        "fig = px.line(df, x=\"x\", y=\"y\", title=\"Quantile 5 With added noise\") \n",
        "fig.add_vrect(x0=5316, x1=9570)\n",
        "fig.show(0)"
      ],
      "metadata": {
        "id": "1ByhaiWOxtnm"
      },
      "execution_count": null,
      "outputs": []
    },
    {
      "cell_type": "code",
      "source": [
        "df = pd.DataFrame(dict(\n",
        "    x = np.arange(0,H,1),\n",
        "    y = S[4]\n",
        "))\n",
        "fig = px.line(df, x=\"x\", y=\"y\", title=\"Quantile 5 without noise\") \n",
        "fig.add_vrect(x0=5316, x1=9570)\n",
        "fig.show(0)"
      ],
      "metadata": {
        "id": "iEttJYhKx0BH"
      },
      "execution_count": null,
      "outputs": []
    },
    {
      "cell_type": "code",
      "source": [
        "print(\"Darpan The Dirbuster\")"
      ],
      "metadata": {
        "id": "xbmZYn6D8xCw"
      },
      "execution_count": null,
      "outputs": []
    },
    {
      "cell_type": "code",
      "source": [
        "target_seq = []\n",
        "for i in range(H):\n",
        "  if i<5317:\n",
        "    target_seq.append(0)\n",
        "  elif i>5316 and i<9570:\n",
        "    target_seq.append(1)\n",
        "  elif i>9569:\n",
        "    target_seq.append(0)\n",
        "df = pd.DataFrame(dict(\n",
        "    x = np.arange(0,H,1),\n",
        "    y = target_seq\n",
        "))\n",
        "fig = px.line(df, x=\"x\", y=\"y\", title=\"Target sequence\") \n",
        "# fig.add_vrect(x0=5316, x1=9570)\n",
        "fig.show(0)"
      ],
      "metadata": {
        "id": "9lHq7ZnvbYXH"
      },
      "execution_count": null,
      "outputs": []
    },
    {
      "cell_type": "markdown",
      "source": [
        "**Thus we have added noise to the data with a probability distribution depending on the data from the first 50% data range. We have currently not accounted the different attack percentages as it is still unclear with our own implementation.**"
      ],
      "metadata": {
        "id": "B5SD4VrkhUsm"
      }
    },
    {
      "cell_type": "code",
      "source": [
        "print(pywt.families(short=False))\n",
        "wavelet = pywt.Wavelet('db4')\n",
        "print(wavelet)"
      ],
      "metadata": {
        "id": "hc04q1UGiZMX"
      },
      "execution_count": null,
      "outputs": []
    },
    {
      "cell_type": "code",
      "source": [
        "df = pd.DataFrame(dict(\n",
        "    x = np.arange(0,H,1),\n",
        "    y = S[0]\n",
        "))\n",
        "fig = px.line(df, x=\"x\", y=\"y\", title=\"Quantile 1 Without noise\") \n",
        "fig.add_vrect(x0=5316, x1=9570)\n",
        "fig.show(0)"
      ],
      "metadata": {
        "id": "-OD2hzB9qMaL"
      },
      "execution_count": null,
      "outputs": []
    },
    {
      "cell_type": "code",
      "source": [
        "a,d = pywt.dwt(S0,'db4')\n",
        "# d=[0]*5320;\n",
        "d.fill(0)\n",
        "S0r = pywt.idwt(a,d,'db4')\n",
        "for i in range(100):\n",
        "  a,d = pywt.dwt(S0r,'db4')\n",
        "  d=[0]*5320;\n",
        "  S0r = pywt.idwt(a,d,'db4')\n",
        "\n",
        "\n",
        "for i in range(len(S0r)):\n",
        "  if S0r[i]<=0:\n",
        "    S0r[i]=0\n",
        "\n",
        "df = pd.DataFrame(dict(\n",
        "    x = np.arange(0,H,1),\n",
        "    y = S0r\n",
        "))\n",
        "fig = px.line(df, x=\"x\", y=\"y\", title=\"Denoise S0\") \n",
        "fig.add_vrect(x0=5316, x1=9570)\n",
        "fig.show(0)"
      ],
      "metadata": {
        "id": "-c02h-6mTxMo"
      },
      "execution_count": null,
      "outputs": []
    },
    {
      "cell_type": "code",
      "source": [
        "a,d = pywt.dwt(S1,'db4')\n",
        "d.fill(0)\n",
        "S1r = pywt.idwt(a,d,'db4')\n",
        "for i in range(5):\n",
        "  a,d = pywt.dwt(S1r,'db4')\n",
        "  d=[0]*5320;\n",
        "  S1r = pywt.idwt(a,d,'db4')\n",
        "\n",
        "\n",
        "for i in range(len(S0r)):\n",
        "  if S1r[i]<=0:\n",
        "    S1r[i]=0\n",
        "\n",
        "df = pd.DataFrame(dict(\n",
        "    x = np.arange(0,H,1),\n",
        "    y = S1r\n",
        "))\n",
        "fig = px.line(df, x=\"x\", y=\"y\", title=\"Denoise S1\") \n",
        "# fig.add_vrect(x0=5316, x1=9570)\n",
        "fig.show(0)"
      ],
      "metadata": {
        "id": "uDSZ0C16dqw6"
      },
      "execution_count": null,
      "outputs": []
    },
    {
      "cell_type": "code",
      "source": [
        "a,d = pywt.dwt(S2,'db4')\n",
        "d.fill(0)\n",
        "S2r = pywt.idwt(a,d,'db4')\n",
        "for i in range(5):\n",
        "  a,d = pywt.dwt(S2,'db4')\n",
        "  d.fill(0)\n",
        "  S2r = pywt.idwt(a,d,'db4')\n",
        "for i in range(len(S2r)):\n",
        "  if S2r[i]<=0:\n",
        "    S2r[i]=0\n",
        "\n",
        "df = pd.DataFrame(dict(\n",
        "    x = np.arange(0,H,1),\n",
        "    y = S2r\n",
        "))\n",
        "fig = px.line(df, x=\"x\", y=\"y\", title=\"Denoise S2\") \n",
        "# fig.add_vrect(x0=5316, x1=9570)\n",
        "fig.show(0)"
      ],
      "metadata": {
        "id": "EvdVwpd1drWL"
      },
      "execution_count": null,
      "outputs": []
    },
    {
      "cell_type": "code",
      "source": [
        "a,d = pywt.dwt(S3,'db4')\n",
        "d.fill(0)\n",
        "S3r = pywt.idwt(a,d,'db4')\n",
        "for i in range(5):\n",
        "  a,d = pywt.dwt(S3,'db4')\n",
        "  d.fill(0)\n",
        "  S3r = pywt.idwt(a,d,'db4')\n",
        "for i in range(len(S3r)):\n",
        "  if S3r[i]<=0:\n",
        "    S3r[i]=0\n",
        "df = pd.DataFrame(dict(\n",
        "    x = np.arange(0,H,1),\n",
        "    y = S3r\n",
        "))\n",
        "fig = px.line(df, x=\"x\", y=\"y\", title=\"Denoise S3\") \n",
        "# fig.add_vrect(x0=5316, x1=9570)\n",
        "fig.show(0)"
      ],
      "metadata": {
        "id": "gtjA8IR-drnY"
      },
      "execution_count": null,
      "outputs": []
    },
    {
      "cell_type": "code",
      "source": [
        "a,d = pywt.dwt(S4,'db4')\n",
        "d.fill(0)\n",
        "S4r = pywt.idwt(a,d,'db4')\n",
        "for i in range(5):\n",
        "  a,d = pywt.dwt(S4,'db4')\n",
        "  d.fill(0)\n",
        "  S2r = pywt.idwt(a,d,'db4')\n",
        "for i in range(len(S4r)):\n",
        "  if S4r[i]<=0:\n",
        "    S4r[i]=0\n",
        "\n",
        "df = pd.DataFrame(dict(\n",
        "    x = np.arange(0,H,1),\n",
        "    y = S4r\n",
        "))\n",
        "fig = px.line(df, x=\"x\", y=\"y\", title=\"Denoise S4\") \n",
        "# fig.add_vrect(x0=5316, x1=9570)\n",
        "fig.show(0)"
      ],
      "metadata": {
        "id": "X0XlIRoHdr1-"
      },
      "execution_count": null,
      "outputs": []
    },
    {
      "cell_type": "markdown",
      "source": [
        "LSTM Implementation"
      ],
      "metadata": {
        "id": "QPdHYIg8wWBD"
      }
    },
    {
      "cell_type": "code",
      "source": [
        "# Dk1 Dk2 Dk3 Dk4 Dk5 are the final sequences to be fed into the network \n",
        "# all combined make the signal and should give us 1 model\n",
        "# target\n"
      ],
      "metadata": {
        "id": "WaY9WzoiwL7L"
      },
      "execution_count": null,
      "outputs": []
    },
    {
      "cell_type": "code",
      "source": [
        "import tensorflow as tf \n",
        "from tensorflow import keras \n",
        "from tensorflow.keras import layers \n",
        "from numpy import array\n",
        "from keras.models import Sequential\n",
        "from keras.layers import LSTM\n",
        "from keras.layers import Dense"
      ],
      "metadata": {
        "id": "58bW9D58t3T0"
      },
      "execution_count": null,
      "outputs": []
    },
    {
      "cell_type": "code",
      "source": [
        "model = Sequential()\n",
        "model.add(LSTM(4, return_sequences=True, input_shape=(1,1), dropout=0.1))\n",
        "model.add(LSTM(512, return_sequences=True, dropout=0.1))\n",
        "model.add(LSTM(256, return_sequences=True, dropout=0.1))\n",
        "model.add(LSTM(64, dropout=0.1))\n",
        "model.add(Dense(1, activation=\"sigmoid\"))\n",
        "model.compile(\n",
        "    loss=keras.losses.BinaryCrossentropy(from_logits=True),\n",
        "    optimizer='sgd'\n",
        ")"
      ],
      "metadata": {
        "id": "rhMCXp2-t6sI"
      },
      "execution_count": null,
      "outputs": []
    },
    {
      "cell_type": "code",
      "source": [
        "data1=data2=data3=data4=data5=list()\n",
        "data1 = np.array(np.floor(S0r))\n",
        "data2 = np.array(np.floor(S1r))\n",
        "data3 = np.array(np.floor(S2r))\n",
        "data4 = np.array(np.floor(S3r))\n",
        "data5 = np.array(np.floor(S4r))\n",
        "\n",
        "samples1=list()\n",
        "samples2 = list()\n",
        "samples3 =list()\n",
        "samples4 =list()\n",
        "samples5 =list()\n",
        "sampleLength = 12\n",
        "\n",
        "for i in range(0,10632,sampleLength):\n",
        "  sample = data1[i:i+sampleLength]\n",
        "  samples1.append(sample)\n",
        "\n",
        "for i in range(0,10632,sampleLength):\n",
        "  sample = data2[i:i+sampleLength]\n",
        "  samples2.append(sample)\n",
        "\n",
        "for i in range(0,10632,sampleLength):\n",
        "  sample = data3[i:i+sampleLength]\n",
        "  samples3.append(sample)\n",
        "\n",
        "for i in range(0,10632,sampleLength):\n",
        "  sample = data4[i:i+sampleLength]\n",
        "  samples4.append(sample)\n",
        "\n",
        "for i in range(0,10632,sampleLength):\n",
        "  sample = data5[i:i+sampleLength]\n",
        "  samples5.append(sample)\n",
        "\n",
        "\n",
        "d1 = np.array(samples1)\n",
        "d2 = np.array(samples2)\n",
        "d3 = np.array(samples3)\n",
        "d4 = np.array(samples4)\n",
        "d5 = np.array(samples5)\n",
        "d1 = d1.reshape(len(d1),sampleLength, 1)\n",
        "d2 = d2.reshape(len(d2),sampleLength, 1)\n",
        "d3 = d3.reshape(len(d3),sampleLength, 1)\n",
        "d4 = d4.reshape(len(d4),sampleLength, 1)\n",
        "d5 = d5.reshape(len(d5),sampleLength, 1)"
      ],
      "metadata": {
        "id": "_D6m41hK81he"
      },
      "execution_count": null,
      "outputs": []
    },
    {
      "cell_type": "code",
      "source": [
        "print(d1.shape)\n",
        "targetSequence = np.array(target_seq[:10632])"
      ],
      "metadata": {
        "id": "Uca0GAvSWnXo"
      },
      "execution_count": null,
      "outputs": []
    },
    {
      "cell_type": "code",
      "source": [
        ""
      ],
      "metadata": {
        "id": "Kf62In8OWnac"
      },
      "execution_count": null,
      "outputs": []
    },
    {
      "cell_type": "code",
      "source": [
        ""
      ],
      "metadata": {
        "id": "Rco9VLzkWndT"
      },
      "execution_count": null,
      "outputs": []
    },
    {
      "cell_type": "code",
      "source": [
        ""
      ],
      "metadata": {
        "id": "M1-kgBDPWngL"
      },
      "execution_count": null,
      "outputs": []
    }
  ],
  "metadata": {
    "colab": {
      "collapsed_sections": [],
      "name": "CSCI8240RP.ipynb",
      "provenance": [],
      "private_outputs": true,
      "include_colab_link": true
    },
    "kernelspec": {
      "display_name": "Python 3",
      "name": "python3"
    },
    "language_info": {
      "name": "python"
    }
  },
  "nbformat": 4,
  "nbformat_minor": 0
}
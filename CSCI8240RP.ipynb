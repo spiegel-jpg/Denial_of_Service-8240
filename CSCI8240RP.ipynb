{
  "cells": [
    {
      "cell_type": "code",
      "execution_count": null,
      "metadata": {
        "id": "wwsyJx7LDbQr"
      },
      "outputs": [],
      "source": [
        "import matplotlib.pyplot as plt\n",
        "import numpy as np"
      ]
    },
    {
      "cell_type": "code",
      "execution_count": null,
      "metadata": {
        "colab": {
          "base_uri": "https://localhost:8080/"
        },
        "id": "eJRf-r8wD0JM",
        "outputId": "ccdad840-088f-464c-d800-27f758ffd590"
      },
      "outputs": [
        {
          "name": "stdout",
          "output_type": "stream",
          "text": [
            "Drive already mounted at /content/drive; to attempt to forcibly remount, call drive.mount(\"/content/drive\", force_remount=True).\n"
          ]
        }
      ],
      "source": [
        "from google.colab import drive\n",
        "drive.mount('/content/drive')"
      ]
    },
    {
      "cell_type": "code",
      "execution_count": null,
      "metadata": {
        "id": "ncXtXfleEhs2"
      },
      "outputs": [],
      "source": [
        "proj_dir = '/content/drive/MyDrive/spiegel'"
      ]
    },
    {
      "cell_type": "code",
      "execution_count": null,
      "metadata": {
        "id": "LoM0BDRBE8PU"
      },
      "outputs": [],
      "source": [
        "import pandas as pd"
      ]
    },
    {
      "cell_type": "code",
      "execution_count": null,
      "metadata": {
        "colab": {
          "base_uri": "https://localhost:8080/"
        },
        "id": "CYFNcyqzFP9E",
        "outputId": "84d7f2ad-77b3-4988-b33a-03ebb7896149"
      },
      "outputs": [
        {
          "output_type": "stream",
          "name": "stdout",
          "text": [
            "                     IP                Time                        Path  \\\n",
            "0           13.66.139.0 2020-12-19 13:57:00                  /index.php   \n",
            "1        216.244.66.230 2020-12-19 14:14:00                 /robots.txt   \n",
            "2          54.36.148.92 2020-12-19 14:16:00                  /index.php   \n",
            "3         92.101.35.224 2020-12-19 14:29:00    /administrator/index.php   \n",
            "4         54.36.148.108 2020-12-19 15:09:00                 /robots.txt   \n",
            "...                 ...                 ...                         ...   \n",
            "230808  128.199.122.170 2022-03-22 19:28:00  /blog/ALFA_DATA/alfacgiapi   \n",
            "230809     89.38.225.39 2022-03-22 19:38:00                 /robots.txt   \n",
            "230810       3.72.4.227 2022-03-22 20:13:00                 /robots.txt   \n",
            "230811       3.72.4.227 2022-03-22 20:13:00                           /   \n",
            "230812     207.46.13.77 2022-03-22 20:36:00                           /   \n",
            "\n",
            "       Response  \n",
            "0           200  \n",
            "1           200  \n",
            "2           200  \n",
            "3           200  \n",
            "4           200  \n",
            "...         ...  \n",
            "230808      404  \n",
            "230809      200  \n",
            "230810      200  \n",
            "230811      200  \n",
            "230812      200  \n",
            "\n",
            "[230813 rows x 4 columns]\n"
          ]
        }
      ],
      "source": [
        "data = pd.read_excel(proj_dir+'/get.xlsx')\n",
        "print(data)"
      ]
    },
    {
      "cell_type": "code",
      "execution_count": null,
      "metadata": {
        "colab": {
          "base_uri": "https://localhost:8080/"
        },
        "id": "kIHb6TCKFkxo",
        "outputId": "05e42df1-1244-49b5-f6ac-66dd6579854c"
      },
      "outputs": [
        {
          "output_type": "stream",
          "name": "stdout",
          "text": [
            "                                  IP                        Path Response\n",
            "Time                                                                     \n",
            "2020-12-19 13:00:00      13.66.139.0                  /index.php      200\n",
            "2020-12-19 14:00:00   216.244.66.230                 /robots.txt      200\n",
            "2020-12-19 14:00:00     54.36.148.92                  /index.php      200\n",
            "2020-12-19 14:00:00    92.101.35.224    /administrator/index.php      200\n",
            "2020-12-19 15:00:00    54.36.148.108                 /robots.txt      200\n",
            "...                              ...                         ...      ...\n",
            "2022-03-22 19:00:00  128.199.122.170  /blog/ALFA_DATA/alfacgiapi      404\n",
            "2022-03-22 19:00:00     89.38.225.39                 /robots.txt      200\n",
            "2022-03-22 20:00:00       3.72.4.227                 /robots.txt      200\n",
            "2022-03-22 20:00:00       3.72.4.227                           /      200\n",
            "2022-03-22 20:00:00     207.46.13.77                           /      200\n",
            "\n",
            "[230813 rows x 3 columns]\n"
          ]
        }
      ],
      "source": [
        "data['Time'] = data['Time'].dt.floor('h')\n",
        "timeseries = data.set_index('Time')\n",
        "print(timeseries)\n",
        "# for i in timeseries:\n"
      ]
    },
    {
      "cell_type": "code",
      "execution_count": null,
      "metadata": {
        "colab": {
          "base_uri": "https://localhost:8080/"
        },
        "id": "FADNqIzuF6Hk",
        "outputId": "b55026e6-4aab-4a58-8ce7-0d906961f876"
      },
      "outputs": [
        {
          "output_type": "stream",
          "name": "stdout",
          "text": [
            "0                                 /index.php\n",
            "1                                          /\n",
            "2                   /administrator/index.php\n",
            "3                                /robots.txt\n",
            "4               /media/system/js/mootools.js\n",
            "                       ...                  \n",
            "565                          /stories/raith/\n",
            "566                        /index.php/admin/\n",
            "567      /components/com_user/controller.php\n",
            "568    /components/com_user/models/reset.php\n",
            "569                                /htaccess\n",
            "Name: PATH, Length: 570, dtype: object\n"
          ]
        }
      ],
      "source": [
        "H = 10634                          # total hours of data we have\n",
        "pages = pd.read_csv(proj_dir+'/pages.csv')\n",
        "valid_page = pages['PATH']\n",
        "print(valid_page)"
      ]
    },
    {
      "cell_type": "code",
      "execution_count": null,
      "metadata": {
        "id": "5RNXQJX4Qvgt"
      },
      "outputs": [],
      "source": [
        "\n",
        "pages = pd.read_csv(proj_dir+'/pages.csv')\n",
        "valid_page = pages['PATH']\n",
        "quantile1 = list(valid_page[0:114])\n",
        "quantile2 = list(valid_page[114:228])\n",
        "quantile3 = list(valid_page[228:342])\n",
        "quantile4 = list(valid_page[342:456])\n",
        "quantile5 = list(valid_page[456:570])\n",
        "#print(quantile1)\n",
        "##print(quantile2)\n",
        "#print(quantile3)\n",
        "#print(quantile4)\n",
        "#print(quantile5)\n",
        "\n",
        "# timeseries.loc[\"2020-12-19 14:00:00\"]\n"
      ]
    },
    {
      "cell_type": "code",
      "execution_count": null,
      "metadata": {
        "id": "XuY1BzQCImWB"
      },
      "outputs": [],
      "source": [
        "valid_page_checker = set(valid_page)\n",
        "N = len(pages)                      # N is the total pages on the website\n",
        "                                    # These are all the pages which are services with 200 HTML status code\n",
        "M = int(5)\n",
        "no_of_quantiles = int(N/M)\n",
        "# print(N)>570 pages total\n",
        "#  fij represent the total number of requests on ith page (1 ≤ i ≤ N) in the jth hour.\n"
      ]
    },
    {
      "cell_type": "code",
      "execution_count": null,
      "metadata": {
        "id": "mgpM-8FgI6iL"
      },
      "outputs": [],
      "source": [
        "# U is the quantiles \n",
        "# timeseries.index[i]\n",
        "time=set()\n",
        "for i in range(len(timeseries)):\n",
        "  time.add(timeseries.index[i])\n",
        "time = list(sorted(time))\n",
        "# print(time)\n",
        "# U = [[0 for i in range(M)] for j in range(int(no_of_quantiles))]\n",
        "# for i in range(int(no_of_quantiles)):\n",
        "#   for j in range(M):\n",
        "#     U[i][j]\n"
      ]
    },
    {
      "cell_type": "code",
      "source": [
        "S = [[0 for i in range(int(H))] for j in range(int(M))]"
      ],
      "metadata": {
        "id": "n_Dmgapcdj4U"
      },
      "execution_count": null,
      "outputs": []
    },
    {
      "cell_type": "code",
      "source": [
        "for i in range(H):\n",
        "  requests = timeseries.loc[time[i]]\n",
        "  no_of_req = int(len(requests))\n",
        "  request_path = requests['Path']\n",
        "  request_response = requests['Response']\n",
        "  if not isinstance(requests, pd.DataFrame):\n",
        "    if request_response == 200:\n",
        "        if request_path in quantile1:\n",
        "          S[0][i]+=1\n",
        "        elif request_path in quantile2:\n",
        "          S[1][i]+=1\n",
        "        elif request_path in quantile3:\n",
        "          S[2][i]+=1\n",
        "        elif request_path in quantile4:\n",
        "          S[3][i]+=1\n",
        "        elif request_path in quantile5:\n",
        "          S[4][i]+=1\n",
        "  else:\n",
        "    for j in range(no_of_req):\n",
        "      if request_response[j] == 200:\n",
        "        if request_path[j] in quantile1:\n",
        "          S[0][i]+=1\n",
        "        elif request_path[j] in quantile2:\n",
        "          S[1][i]+=1\n",
        "        elif request_path[j] in quantile3:\n",
        "          S[2][i]+=1\n",
        "        elif request_path[j] in quantile4:\n",
        "          S[3][i]+=1\n",
        "        elif request_path[j] in quantile5:\n",
        "          S[4][i]+=1\n",
        "# request = timeseries.loc[time[1000]]\n",
        "# len(request)"
      ],
      "metadata": {
        "id": "Z2W-GBTkZWzF"
      },
      "execution_count": null,
      "outputs": []
    },
    {
      "cell_type": "code",
      "source": [
        "x = np.arange(0, H, 1)\n",
        "plt.plot(x,S[0])\n",
        "plt.title(\"S1\")\n",
        "plt.xlabel(\"Time(n)\")\n",
        "plt.ylabel(\"No of requests\")"
      ],
      "metadata": {
        "id": "7ZumitSKec9-",
        "colab": {
          "base_uri": "https://localhost:8080/",
          "height": 312
        },
        "outputId": "c2025f7e-f6cd-4105-c9d3-debaf7dcf6cf"
      },
      "execution_count": null,
      "outputs": [
        {
          "output_type": "execute_result",
          "data": {
            "text/plain": [
              "Text(0, 0.5, 'No of requests')"
            ]
          },
          "metadata": {},
          "execution_count": 167
        },
        {
          "output_type": "display_data",
          "data": {
            "text/plain": [
              "<Figure size 432x288 with 1 Axes>"
            ],
            "image/png": "[encoded data removed]"
          },
          "metadata": {
            "needs_background": "light"
          }
        }
      ]
    },
    {
      "cell_type": "code",
      "source": [
        "x = np.arange(0, H, 1)\n",
        "plt.plot(x,S[1])\n",
        "plt.title(\"S2\")\n",
        "plt.xlabel(\"Time(n)\")\n",
        "plt.ylabel(\"No of requests\")"
      ],
      "metadata": {
        "colab": {
          "base_uri": "https://localhost:8080/",
          "height": 312
        },
        "id": "j9So9km6rcQ8",
        "outputId": "8644a5a7-607f-498e-fdff-23998a11c27a"
      },
      "execution_count": null,
      "outputs": [
        {
          "output_type": "execute_result",
          "data": {
            "text/plain": [
              "Text(0, 0.5, 'No of requests')"
            ]
          },
          "metadata": {},
          "execution_count": 166
        },
        {
          "output_type": "display_data",
          "data": {
            "text/plain": [
              "<Figure size 432x288 with 1 Axes>"
            ],
            "image/png": "[encoded data removed]"
          },
          "metadata": {
            "needs_background": "light"
          }
        }
      ]
    },
    {
      "cell_type": "code",
      "source": [
        "x = np.arange(0, H, 1)\n",
        "plt.plot(x,S[2])\n",
        "plt.title(\"S3\")\n",
        "plt.xlabel(\"Time(n)\")\n",
        "plt.ylabel(\"No of requests\")"
      ],
      "metadata": {
        "colab": {
          "base_uri": "https://localhost:8080/",
          "height": 312
        },
        "id": "8rH7LEwGrcUN",
        "outputId": "47c4f8f3-b78f-4ff4-e9bd-a7b0ec34e070"
      },
      "execution_count": null,
      "outputs": [
        {
          "output_type": "execute_result",
          "data": {
            "text/plain": [
              "Text(0, 0.5, 'No of requests')"
            ]
          },
          "metadata": {},
          "execution_count": 164
        },
        {
          "output_type": "display_data",
          "data": {
            "text/plain": [
              "<Figure size 432x288 with 1 Axes>"
            ],
            "image/png": "[encoded data removed]"
          },
          "metadata": {
            "needs_background": "light"
          }
        }
      ]
    },
    {
      "cell_type": "code",
      "source": [
        "x = np.arange(0, H, 1)\n",
        "plt.plot(x,S[3])\n",
        "plt.title(\"S4\")\n",
        "plt.xlabel(\"Time(n)\")\n",
        "plt.ylabel(\"No of requests\")"
      ],
      "metadata": {
        "colab": {
          "base_uri": "https://localhost:8080/",
          "height": 312
        },
        "id": "A5H5UsiCrcXp",
        "outputId": "e437cf76-ac8d-41b1-813c-ac649eb39505"
      },
      "execution_count": null,
      "outputs": [
        {
          "output_type": "execute_result",
          "data": {
            "text/plain": [
              "Text(0, 0.5, 'No of requests')"
            ]
          },
          "metadata": {},
          "execution_count": 165
        },
        {
          "output_type": "display_data",
          "data": {
            "text/plain": [
              "<Figure size 432x288 with 1 Axes>"
            ],
            "image/png": "[encoded data removed]"
          },
          "metadata": {
            "needs_background": "light"
          }
        }
      ]
    },
    {
      "cell_type": "code",
      "source": [
        "x = np.arange(0, H, 1)\n",
        "plt.plot(x,S[4])\n",
        "plt.title(\"S5\")\n",
        "plt.xlabel(\"Time(n)\")\n",
        "plt.ylabel(\"No of requests\")"
      ],
      "metadata": {
        "colab": {
          "base_uri": "https://localhost:8080/",
          "height": 312
        },
        "id": "OhJXuLUxrccV",
        "outputId": "c087a933-37ce-4079-e764-e717e3625145"
      },
      "execution_count": null,
      "outputs": [
        {
          "output_type": "execute_result",
          "data": {
            "text/plain": [
              "Text(0, 0.5, 'No of requests')"
            ]
          },
          "metadata": {},
          "execution_count": 163
        },
        {
          "output_type": "display_data",
          "data": {
            "text/plain": [
              "<Figure size 432x288 with 1 Axes>"
            ],
            "image/png": "[encoded data removed]"
          },
          "metadata": {
            "needs_background": "light"
          }
        }
      ]
    }
  ],
  "metadata": {
    "colab": {
      "collapsed_sections": [],
      "name": "CSCI8240RP.ipynb",
      "provenance": []
    },
    "kernelspec": {
      "display_name": "Python 3",
      "name": "python3"
    },
    "language_info": {
      "name": "python"
    }
  },
  "nbformat": 4,
  "nbformat_minor": 0
}